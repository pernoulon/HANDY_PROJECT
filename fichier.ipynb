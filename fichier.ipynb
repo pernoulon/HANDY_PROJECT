{
 "cells": [
  {
   "cell_type": "code",
   "execution_count": null,
   "metadata": {},
   "outputs": [],
   "source": [
    "#Python\n",
    "\n",
    "#eoliennes fichier de str à convertir en float\n",
    "file = open(file, newline = '')  #cas particulier à une colonne. on arrête la ligne quand ya rien\n",
    "csvReader = csv.reader(file, delimiter = ',') #entre les colonnes\n",
    "for line in csvReader:\n",
    "    vit = float(line[0])\n",
    "    list_vit.append(vit)"
   ]
  },
  {
   "cell_type": "code",
   "execution_count": null,
   "metadata": {},
   "outputs": [],
   "source": [
    "#suisse fichier texte extraire certaines colonnes en float\n",
    "import numpy as np\n",
    "y = np.genfromtxt(fichier, delimiter=' ', dtype='float64', usecols = (0)) #extraire 1è colonne\n",
    "\n",
    "array = np.genfromtxt(fichier, delimiter=' ', dtype='float64') #ouvrir\n",
    "x = array[:,0]   #extraire 1è colonne"
   ]
  },
  {
   "cell_type": "code",
   "execution_count": null,
   "metadata": {},
   "outputs": [],
   "source": [
    "#oiseaux fichier audio\n",
    "import math\n",
    "import wave\n",
    "import array\n",
    "import matplotlib.pyplot as plt\n",
    "\n",
    "def readWavFile(filename):\n",
    "    wav = wave.open(filename)\n",
    "    framerate = wav.getframerate()\n",
    "    bytes = wav.readframes(wav.getnframes())\n",
    "    signal = array.array('h', bytes).tolist()\n",
    "    return signal, framerate"
   ]
  },
  {
   "cell_type": "markdown",
   "metadata": {},
   "source": [
    "#C GPS str à convertir en chiffres\n",
    "\n",
    "int lireFichier(char * nomFichier, struct GpsPoint * tableauARemplir, int longueur) {\n",
    "    // Ouvrir le fichier\n",
    "    FILE * file = fopen(nomFichier, \"r\"); // pointer\n",
    "    if (file == NULL) return -1;  //si fichier n'existe pas\n",
    "\n",
    "    // Lire ligne par ligne\n",
    "    int n = 0;\n",
    "    char buffer[100];\n",
    "    while (fgets(buffer, 100, file) != NULL) { //read and store char (max 100 char) into buffer. at the end-> NULL\n",
    "        if (n >= longueur) break; //tu choisis longueur\n",
    "        int ok = lireLigne(buffer, &tableauARemplir[n]);  //accede a ladresse n du tableau de structures = la structure n qui sera modifiée\n",
    "        if (ok) n = n + 1;  // if ok is 1\n",
    "    }\n",
    "    fclose(file);\n",
    "    return n;  // nombre de lignes ok pour coordonnées\n",
    "}"
   ]
  },
  {
   "cell_type": "markdown",
   "metadata": {},
   "source": [
    "#matlab eolienne contient (325, 1) 1 seule colonne !!!!!!\n",
    "\n",
    "eolienne(\"vent-jungfraujoch\");\n",
    "\n",
    "vit = csvread(file) ; %array of vit as double\n",
    "vit = readmatrix(file) %equivalent\n",
    "\n",
    "\n",
    "fid = fopen(file, 'r');\n",
    "C = textscan(fid, '%f%f%f', 'Delimiter', ' ');\n",
    "fclose(fid);\n",
    "vit = C{1, 1};  % que 1 colonne \n",
    "y = C{1, 2}; % colonne 2 mais nexiste pas donc NaN\n",
    "h = C{1, 3}; % NaN"
   ]
  },
  {
   "cell_type": "markdown",
   "metadata": {},
   "source": [
    "#matlab suisse (n, 3) 3 colonnes\n",
    "\n",
    "csvread(file) ne prend que la première colonne\n",
    "readmatrix(file) ne comprend pas\n",
    "\n",
    "fid = fopen(file, 'r');\n",
    "C = textscan(fid, '%f%f%f', 'Delimiter', ' ');\n",
    "fclose(fid);\n",
    "vit = C{1, 1};  % que 1 colonne \n",
    "y = C{1, 2}; % colonne 2\n",
    "h = C{1, 3}; % colonne 3\n",
    "ATTENTION pas avec des parenthèses"
   ]
  }
 ],
 "metadata": {
  "kernelspec": {
   "display_name": "Python 3.8.5 ('base')",
   "language": "python",
   "name": "python3"
  },
  "language_info": {
   "name": "python",
   "version": "3.8.5"
  },
  "orig_nbformat": 4,
  "vscode": {
   "interpreter": {
    "hash": "40d3a090f54c6569ab1632332b64b2c03c39dcf918b08424e98f38b5ae0af88f"
   }
  }
 },
 "nbformat": 4,
 "nbformat_minor": 2
}
